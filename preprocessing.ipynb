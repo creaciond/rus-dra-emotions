{
 "cells": [
  {
   "cell_type": "code",
   "execution_count": 1,
   "metadata": {},
   "outputs": [],
   "source": [
    "from pymystem3 import Mystem\n",
    "from tqdm import tqdm\n",
    "import os\n",
    "import warnings"
   ]
  },
  {
   "cell_type": "code",
   "execution_count": 2,
   "metadata": {},
   "outputs": [],
   "source": [
    "warnings.simplefilter(\"ignore\")\n",
    "mystem = Mystem()"
   ]
  },
  {
   "cell_type": "code",
   "execution_count": 3,
   "metadata": {},
   "outputs": [],
   "source": [
    "def extract_lemmas(lines_raw, mystem):\n",
    "    \"\"\"Performs lemmatization. Each word is converted to its 'normal form' (nouns -> Nom.sg, etc.)\n",
    "    \n",
    "    :arg lines - (list of str) list of particular play's directions the\n",
    "    way they were extracted from the text\n",
    "    :arg mystem - an instance of Mystem, morphological analyzer, part of\n",
    "    pymoystem3 module (a Python wrapper for the original programme)\n",
    "    \n",
    "    :returns lines_lemmatized - (list of str) same lines yet converted to\n",
    "    their lemmas\"\"\"\n",
    "    lines_lemmatized = []\n",
    "    for line_raw in lines_raw:\n",
    "        words_analyses = mystem.analyze(line_raw)\n",
    "        line_lemmas = \" \".join([parse[\"analysis\"][0][\"lex\"] for parse in words_analyses if parse.get(\"analysis\")])\n",
    "        lines_lemmatized.append(line_lemmas)\n",
    "    return lines_lemmatized"
   ]
  },
  {
   "cell_type": "code",
   "execution_count": 4,
   "metadata": {},
   "outputs": [
    {
     "name": "stderr",
     "output_type": "stream",
     "text": [
      "100%|██████████| 210/210 [01:46<00:00,  1.97it/s]\n"
     ]
    }
   ],
   "source": [
    "spoken_folder = \"./data/spoken\"\n",
    "spoken_lemmas_folder = spoken_folder + \"_lemmas\"\n",
    "\n",
    "for file in tqdm([f for f in os.listdir(spoken_folder) if f.endswith(\".txt\")]):\n",
    "    with open(os.path.join(spoken_folder, file), \"r\", encoding=\"utf-8\") as f_raw:\n",
    "        lines_raw = f_raw.readlines()\n",
    "    lines_lemmas = extract_lemmas(lines_raw, mystem)\n",
    "    with open(os.path.join(spoken_lemmas_folder, file), \"w\", encoding=\"utf-8\") as f_lemmas:\n",
    "        f_lemmas.write(\"\\n\".join(lines_lemmas))"
   ]
  },
  {
   "cell_type": "code",
   "execution_count": 5,
   "metadata": {},
   "outputs": [
    {
     "name": "stderr",
     "output_type": "stream",
     "text": [
      "100%|██████████| 210/210 [00:12<00:00, 16.95it/s]\n"
     ]
    }
   ],
   "source": [
    "stage_folder = \"./data/stage\"\n",
    "stage_lemmas_folder = stage_folder + \"_lemmas\"\n",
    "\n",
    "for file in tqdm([f for f in os.listdir(stage_folder) if f.endswith(\".txt\")]):\n",
    "    with open(os.path.join(stage_folder, file), \"r\", encoding=\"utf-8\") as f_raw:\n",
    "        lines_raw = f_raw.readlines()\n",
    "    lines_lemmas = extract_lemmas(lines_raw, mystem)\n",
    "    with open(os.path.join(stage_lemmas_folder, file), \"w\", encoding=\"utf-8\") as f_lemmas:\n",
    "        f_lemmas.write(\"\\n\".join(lines_lemmas))"
   ]
  }
 ],
 "metadata": {
  "kernelspec": {
   "display_name": "Python 3",
   "language": "python",
   "name": "python3"
  },
  "language_info": {
   "codemirror_mode": {
    "name": "ipython",
    "version": 3
   },
   "file_extension": ".py",
   "mimetype": "text/x-python",
   "name": "python",
   "nbconvert_exporter": "python",
   "pygments_lexer": "ipython3",
   "version": "3.6.8"
  }
 },
 "nbformat": 4,
 "nbformat_minor": 2
}
