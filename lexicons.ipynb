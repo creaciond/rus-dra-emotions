{
 "cells": [
  {
   "cell_type": "markdown",
   "metadata": {},
   "source": [
    "# Comparing different lexicons\n",
    "\n",
    "Let's see how sentiment analysis results will change when we change the lexicon we use for finding out emotional words."
   ]
  },
  {
   "cell_type": "code",
   "execution_count": 1,
   "metadata": {},
   "outputs": [],
   "source": [
    "import os\n",
    "\n",
    "import numpy as np\n",
    "import pandas as pd\n",
    "import seaborn as sns\n",
    "\n",
    "from copy import deepcopy\n",
    "from itertools import combinations\n",
    "from sklearn.metrics import cohen_kappa_score\n",
    "from statistics import mean"
   ]
  },
  {
   "cell_type": "code",
   "execution_count": 2,
   "metadata": {},
   "outputs": [],
   "source": [
    "import warnings\n",
    "warnings.simplefilter(\"ignore\")"
   ]
  },
  {
   "cell_type": "markdown",
   "metadata": {},
   "source": [
    "Also, some imports with Jupyter Notebook magic:"
   ]
  },
  {
   "cell_type": "code",
   "execution_count": 3,
   "metadata": {},
   "outputs": [],
   "source": [
    "import matplotlib.pyplot as plt\n",
    "%matplotlib inline"
   ]
  },
  {
   "cell_type": "markdown",
   "metadata": {},
   "source": [
    "## 1 &emsp; Loading data\n",
    "\n",
    "The script that generated the datasets is stored at [extract_sentiment_from_plays.py](./extract_sentiment_from_plays.py)."
   ]
  },
  {
   "cell_type": "code",
   "execution_count": 4,
   "metadata": {},
   "outputs": [
    {
     "data": {
      "text/html": [
       "<div>\n",
       "<style scoped>\n",
       "    .dataframe tbody tr th:only-of-type {\n",
       "        vertical-align: middle;\n",
       "    }\n",
       "\n",
       "    .dataframe tbody tr th {\n",
       "        vertical-align: top;\n",
       "    }\n",
       "\n",
       "    .dataframe thead th {\n",
       "        text-align: right;\n",
       "    }\n",
       "</style>\n",
       "<table border=\"1\" class=\"dataframe\">\n",
       "  <thead>\n",
       "    <tr style=\"text-align: right;\">\n",
       "      <th></th>\n",
       "      <th>play</th>\n",
       "      <th>lexicon</th>\n",
       "      <th>spoken, total</th>\n",
       "      <th>spoken positive</th>\n",
       "      <th>spoken positive, %</th>\n",
       "      <th>spoken negative</th>\n",
       "      <th>spoken negative, %</th>\n",
       "      <th>stage, total</th>\n",
       "      <th>stage positive</th>\n",
       "      <th>stage positive, %</th>\n",
       "      <th>stage negative</th>\n",
       "      <th>stage negative, %</th>\n",
       "    </tr>\n",
       "  </thead>\n",
       "  <tbody>\n",
       "    <tr>\n",
       "      <td>0</td>\n",
       "      <td>andreyev-ne-ubiy</td>\n",
       "      <td>RuSentiLex</td>\n",
       "      <td>971</td>\n",
       "      <td>155</td>\n",
       "      <td>15.962925</td>\n",
       "      <td>287</td>\n",
       "      <td>29.557158</td>\n",
       "      <td>340</td>\n",
       "      <td>37</td>\n",
       "      <td>10.882353</td>\n",
       "      <td>67</td>\n",
       "      <td>19.705882</td>\n",
       "    </tr>\n",
       "    <tr>\n",
       "      <td>1</td>\n",
       "      <td>andreyev-ne-ubiy</td>\n",
       "      <td>EmoLex</td>\n",
       "      <td>971</td>\n",
       "      <td>335</td>\n",
       "      <td>34.500515</td>\n",
       "      <td>144</td>\n",
       "      <td>14.830072</td>\n",
       "      <td>340</td>\n",
       "      <td>57</td>\n",
       "      <td>16.764706</td>\n",
       "      <td>54</td>\n",
       "      <td>15.882353</td>\n",
       "    </tr>\n",
       "    <tr>\n",
       "      <td>2</td>\n",
       "      <td>andreyev-ne-ubiy</td>\n",
       "      <td>SentiRusColl</td>\n",
       "      <td>971</td>\n",
       "      <td>0</td>\n",
       "      <td>0.000000</td>\n",
       "      <td>0</td>\n",
       "      <td>0.000000</td>\n",
       "      <td>340</td>\n",
       "      <td>0</td>\n",
       "      <td>0.000000</td>\n",
       "      <td>0</td>\n",
       "      <td>0.000000</td>\n",
       "    </tr>\n",
       "    <tr>\n",
       "      <td>3</td>\n",
       "      <td>andreyev-ne-ubiy</td>\n",
       "      <td>LinisCrowd</td>\n",
       "      <td>971</td>\n",
       "      <td>140</td>\n",
       "      <td>14.418126</td>\n",
       "      <td>284</td>\n",
       "      <td>29.248198</td>\n",
       "      <td>340</td>\n",
       "      <td>36</td>\n",
       "      <td>10.588235</td>\n",
       "      <td>61</td>\n",
       "      <td>17.941176</td>\n",
       "    </tr>\n",
       "    <tr>\n",
       "      <td>4</td>\n",
       "      <td>andreyev-ne-ubiy</td>\n",
       "      <td>ChenSkiena</td>\n",
       "      <td>971</td>\n",
       "      <td>420</td>\n",
       "      <td>43.254377</td>\n",
       "      <td>131</td>\n",
       "      <td>13.491246</td>\n",
       "      <td>340</td>\n",
       "      <td>73</td>\n",
       "      <td>21.470588</td>\n",
       "      <td>49</td>\n",
       "      <td>14.411765</td>\n",
       "    </tr>\n",
       "  </tbody>\n",
       "</table>\n",
       "</div>"
      ],
      "text/plain": [
       "               play       lexicon  spoken, total  spoken positive  \\\n",
       "0  andreyev-ne-ubiy    RuSentiLex            971              155   \n",
       "1  andreyev-ne-ubiy        EmoLex            971              335   \n",
       "2  andreyev-ne-ubiy  SentiRusColl            971                0   \n",
       "3  andreyev-ne-ubiy    LinisCrowd            971              140   \n",
       "4  andreyev-ne-ubiy    ChenSkiena            971              420   \n",
       "\n",
       "   spoken positive, %  spoken negative  spoken negative, %  stage, total  \\\n",
       "0           15.962925              287           29.557158           340   \n",
       "1           34.500515              144           14.830072           340   \n",
       "2            0.000000                0            0.000000           340   \n",
       "3           14.418126              284           29.248198           340   \n",
       "4           43.254377              131           13.491246           340   \n",
       "\n",
       "   stage positive  stage positive, %  stage negative  stage negative, %  \n",
       "0              37          10.882353              67          19.705882  \n",
       "1              57          16.764706              54          15.882353  \n",
       "2               0           0.000000               0           0.000000  \n",
       "3              36          10.588235              61          17.941176  \n",
       "4              73          21.470588              49          14.411765  "
      ]
     },
     "execution_count": 4,
     "metadata": {},
     "output_type": "execute_result"
    }
   ],
   "source": [
    "df = pd.read_csv(\"./data/lexicons_experiment.csv\", sep=\";\", encoding=\"utf-8\")\n",
    "df.head()"
   ]
  },
  {
   "cell_type": "code",
   "execution_count": 5,
   "metadata": {},
   "outputs": [
    {
     "data": {
      "text/html": [
       "<div>\n",
       "<style scoped>\n",
       "    .dataframe tbody tr th:only-of-type {\n",
       "        vertical-align: middle;\n",
       "    }\n",
       "\n",
       "    .dataframe tbody tr th {\n",
       "        vertical-align: top;\n",
       "    }\n",
       "\n",
       "    .dataframe thead th {\n",
       "        text-align: right;\n",
       "    }\n",
       "</style>\n",
       "<table border=\"1\" class=\"dataframe\">\n",
       "  <thead>\n",
       "    <tr style=\"text-align: right;\">\n",
       "      <th></th>\n",
       "      <th>play</th>\n",
       "      <th>line</th>\n",
       "      <th>line, lemmas</th>\n",
       "      <th>line type</th>\n",
       "      <th>RuSentiLex</th>\n",
       "      <th>EmoLex</th>\n",
       "      <th>LinisCrowd</th>\n",
       "      <th>ChenSkiena</th>\n",
       "      <th>ProductSentiRus</th>\n",
       "      <th>SentiRusColl</th>\n",
       "    </tr>\n",
       "  </thead>\n",
       "  <tbody>\n",
       "    <tr>\n",
       "      <td>0</td>\n",
       "      <td>andreyev-ne-ubiy</td>\n",
       "      <td>Что задумались, Василиса Петровна? Я пришел.</td>\n",
       "      <td>что задумываться василиса петровна я приходить</td>\n",
       "      <td>spoken</td>\n",
       "      <td>0</td>\n",
       "      <td>0</td>\n",
       "      <td>0</td>\n",
       "      <td>0</td>\n",
       "      <td>-1</td>\n",
       "      <td>0</td>\n",
       "    </tr>\n",
       "    <tr>\n",
       "      <td>1</td>\n",
       "      <td>andreyev-ne-ubiy</td>\n",
       "      <td>Да вот думаю все.</td>\n",
       "      <td>да вот думать все</td>\n",
       "      <td>spoken</td>\n",
       "      <td>0</td>\n",
       "      <td>1</td>\n",
       "      <td>0</td>\n",
       "      <td>0</td>\n",
       "      <td>-1</td>\n",
       "      <td>0</td>\n",
       "    </tr>\n",
       "    <tr>\n",
       "      <td>2</td>\n",
       "      <td>andreyev-ne-ubiy</td>\n",
       "      <td>Ну, думайте.</td>\n",
       "      <td>ну думать</td>\n",
       "      <td>spoken</td>\n",
       "      <td>0</td>\n",
       "      <td>0</td>\n",
       "      <td>0</td>\n",
       "      <td>1</td>\n",
       "      <td>-1</td>\n",
       "      <td>0</td>\n",
       "    </tr>\n",
       "    <tr>\n",
       "      <td>3</td>\n",
       "      <td>andreyev-ne-ubiy</td>\n",
       "      <td>Холодно. Да, вот думаю все. Ты знаешь, Яков, с...</td>\n",
       "      <td>холодно да вот думать все ты знать яков скольк...</td>\n",
       "      <td>spoken</td>\n",
       "      <td>0</td>\n",
       "      <td>1</td>\n",
       "      <td>0</td>\n",
       "      <td>-1</td>\n",
       "      <td>-1</td>\n",
       "      <td>0</td>\n",
       "    </tr>\n",
       "    <tr>\n",
       "      <td>4</td>\n",
       "      <td>andreyev-ne-ubiy</td>\n",
       "      <td>Я частокольчик доломал, теперь дня на два топл...</td>\n",
       "      <td>я частокольчик доламывать теперь день на два т...</td>\n",
       "      <td>spoken</td>\n",
       "      <td>-1</td>\n",
       "      <td>-1</td>\n",
       "      <td>0</td>\n",
       "      <td>0</td>\n",
       "      <td>-1</td>\n",
       "      <td>0</td>\n",
       "    </tr>\n",
       "  </tbody>\n",
       "</table>\n",
       "</div>"
      ],
      "text/plain": [
       "               play                                               line  \\\n",
       "0  andreyev-ne-ubiy       Что задумались, Василиса Петровна? Я пришел.   \n",
       "1  andreyev-ne-ubiy                                  Да вот думаю все.   \n",
       "2  andreyev-ne-ubiy                                       Ну, думайте.   \n",
       "3  andreyev-ne-ubiy  Холодно. Да, вот думаю все. Ты знаешь, Яков, с...   \n",
       "4  andreyev-ne-ubiy  Я частокольчик доломал, теперь дня на два топл...   \n",
       "\n",
       "                                        line, lemmas line type  RuSentiLex  \\\n",
       "0     что задумываться василиса петровна я приходить    spoken           0   \n",
       "1                                  да вот думать все    spoken           0   \n",
       "2                                          ну думать    spoken           0   \n",
       "3  холодно да вот думать все ты знать яков скольк...    spoken           0   \n",
       "4  я частокольчик доламывать теперь день на два т...    spoken          -1   \n",
       "\n",
       "   EmoLex  LinisCrowd  ChenSkiena  ProductSentiRus  SentiRusColl  \n",
       "0       0           0           0               -1             0  \n",
       "1       1           0           0               -1             0  \n",
       "2       0           0           1               -1             0  \n",
       "3       1           0          -1               -1             0  \n",
       "4      -1           0           0               -1             0  "
      ]
     },
     "execution_count": 5,
     "metadata": {},
     "output_type": "execute_result"
    }
   ],
   "source": [
    "df_by_line = pd.read_csv(\"./data/lexicons_by_line.csv\", sep=\";\", encoding=\"utf-8\")\n",
    "df_by_line.head()"
   ]
  },
  {
   "cell_type": "markdown",
   "metadata": {},
   "source": [
    "## 2 &emsp; Share of \"emotional\" lines in plays"
   ]
  },
  {
   "cell_type": "markdown",
   "metadata": {},
   "source": [
    "Let's visualise amounts of found emotional lines by play for each lexicon:"
   ]
  },
  {
   "cell_type": "markdown",
   "metadata": {},
   "source": [
    "### 2.1 &emsp; Spoken text"
   ]
  },
  {
   "cell_type": "code",
   "execution_count": 6,
   "metadata": {},
   "outputs": [
    {
     "data": {
      "image/png": "[encoded data removed]",
      "text/plain": [
       "<Figure size 1296x216 with 6 Axes>"
      ]
     },
     "metadata": {
      "needs_background": "light"
     },
     "output_type": "display_data"
    }
   ],
   "source": [
    "g = sns.FacetGrid(df, col=\"lexicon\", palette=sns.cubehelix_palette(7, start=.8))\n",
    "# plt.suptitle(\"Distribution of positive phrases in plays\")\n",
    "g.map(plt.hist, \"spoken positive, %\");\n",
    "plt.savefig(\"./data/figures/spoken_positive_by_lexicon.png\", dpi=600)"
   ]
  },
  {
   "cell_type": "markdown",
   "metadata": {},
   "source": [
    "X-axis is a percentage of phrases in a play labeled positive, Y-axis is amount of plays with given percentage."
   ]
  },
  {
   "cell_type": "code",
   "execution_count": 7,
   "metadata": {},
   "outputs": [
    {
     "data": {
      "image/png": "[encoded data removed]",
      "text/plain": [
       "<Figure size 1296x216 with 6 Axes>"
      ]
     },
     "metadata": {
      "needs_background": "light"
     },
     "output_type": "display_data"
    }
   ],
   "source": [
    "g = sns.FacetGrid(df, col=\"lexicon\", palette=sns.color_palette(\"hls\", 8))\n",
    "g.map(plt.hist, \"spoken negative, %\");\n",
    "plt.savefig(\"./data/figures/spoken_negative_by_lexicon.png\", dpi=600)"
   ]
  },
  {
   "cell_type": "markdown",
   "metadata": {},
   "source": [
    "### 2.2 &emsp; Stage directions"
   ]
  },
  {
   "cell_type": "code",
   "execution_count": 8,
   "metadata": {},
   "outputs": [
    {
     "data": {
      "image/png": "[encoded data removed]",
      "text/plain": [
       "<Figure size 1296x216 with 6 Axes>"
      ]
     },
     "metadata": {
      "needs_background": "light"
     },
     "output_type": "display_data"
    }
   ],
   "source": [
    "g = sns.FacetGrid(df, col=\"lexicon\")\n",
    "# plt.suptitle(\"Distribution of positive phrases in plays\")\n",
    "sns.set_palette(sns.cubehelix_palette(7, start=.8))\n",
    "g.map(plt.hist, \"stage positive, %\");\n",
    "plt.savefig(\"./data/figures/stage_positive_by_lexicon.png\", dpi=600)"
   ]
  },
  {
   "cell_type": "markdown",
   "metadata": {},
   "source": [
    "X-axis is a percentage of phrases in a play labeled positive, Y-axis is amount of plays with given percentage."
   ]
  },
  {
   "cell_type": "code",
   "execution_count": 9,
   "metadata": {},
   "outputs": [
    {
     "data": {
      "image/png": "[encoded data removed]",
      "text/plain": [
       "<Figure size 1296x216 with 6 Axes>"
      ]
     },
     "metadata": {
      "needs_background": "light"
     },
     "output_type": "display_data"
    }
   ],
   "source": [
    "g = sns.FacetGrid(df, col=\"lexicon\")\n",
    "sns.set_palette(sns.color_palette(\"hls\", 8))\n",
    "g.map(plt.hist, \"stage negative, %\");\n",
    "plt.savefig(\"./data/figures/stage_negative_by_lexicon.png\", dpi=600)"
   ]
  },
  {
   "cell_type": "markdown",
   "metadata": {},
   "source": [
    "### What can we get from these?"
   ]
  },
  {
   "cell_type": "markdown",
   "metadata": {},
   "source": [
    "- stage directions are, in general, less emotional (as expected)\n",
    "\n",
    "- results shown by EmoLex and Chen and Skiena's lexicons are quite the same, especially when looking at spoken text (this might be due to the fact that they are both Google Translate-based)\n",
    "\n",
    "- ProductSentiRus shows way too much negative stage directions (needs a more proper check)"
   ]
  },
  {
   "cell_type": "markdown",
   "metadata": {},
   "source": [
    "## 3 &emsp; Inter-lexicon agreement"
   ]
  },
  {
   "cell_type": "code",
   "execution_count": 10,
   "metadata": {},
   "outputs": [],
   "source": [
    "lexicons = [\"RuSentiLex\", \"EmoLex\", \"LinisCrowd\", \"ChenSkiena\", \"ProductSentiRus\", \"SentiRusColl\"]\n",
    "lexicons_pairs = []\n",
    "for item in combinations(lexicons, 2):\n",
    "    lexicons_pairs.append(item)\n",
    "lexicons_pairwise = {pair: [] for pair in lexicons_pairs}"
   ]
  },
  {
   "cell_type": "code",
   "execution_count": 11,
   "metadata": {},
   "outputs": [
    {
     "name": "stdout",
     "output_type": "stream",
     "text": [
      "andreyev-ne-ubiy\n",
      "andreyev-mysl\n",
      "andreyev-k-zvezdam\n",
      "afinogenov-mashenka\n",
      "babel-marija\n",
      "babel-zakat\n",
      "belsky-skazanie-o-nevidimom-grade-kitezhe\n",
      "blok-balaganchik\n",
      "blok-neznakomka\n",
      "blok-korol-na-ploschadi\n",
      "bulgakov-ivan-vasilevich\n",
      "bulgakov-beg\n",
      "bulgakov-zojkina-kvartira\n",
      "bulgakov-poslednie-dni\n",
      "bulgakov-poloumnyj-zhurden\n",
      "bulgakov-dni-turbinyh\n",
      "bulgakov-kabala-svjatosh\n",
      "bulgakov-vojna-i-mir\n",
      "bulgakov-batum\n",
      "bulgakov-adam-i-eva\n",
      "glinka-velzen\n",
      "gogol-igroki\n",
      "gogol-utro-delovogo-cheloveka\n",
      "gogol-teatralnyi-razezd\n",
      "gogol-tjazhba\n",
      "gogol-otryvok\n",
      "gogol-zhenitba\n",
      "gogol-revizor\n",
      "gogol-lakeiskaja\n",
      "gorky-egor-bulychov-i-drugie\n",
      "gorky-na-dne\n",
      "gorky-vassa-zheleznova\n",
      "griboyedov-molodye-suprugi\n",
      "griboyedov-gore-ot-uma\n",
      "gumilyov-akteon\n",
      "gumilyov-ditja-allaha\n",
      "gumilyov-gondla\n",
      "gumilyov-don-zhuan-v-egipte\n",
      "dashkova-toisiokov\n",
      "ekaterina-vtoraja-o-vremja\n",
      "ekaterina-vtoraja-iz-zhizni-rjurika\n",
      "ekaterina-vtoraja-rasstroennaja-semja\n",
      "zagoskin-blagorodnyj-teatr\n",
      "kapnist-antigona\n",
      "kapnist-yabeda\n",
      "kedrin-rembrandt\n",
      "knyazhnin-hvastun\n",
      "knyazhnin-olga\n",
      "knyazhnin-traur\n",
      "knyazhnin-neudachnyj-primiritel\n",
      "knyazhnin-vadim-novgorodskij\n",
      "knyazhnin-rosslav\n",
      "knyazhnin-didona\n",
      "knyazhnin-chudaki\n",
      "kokoshkin-vospitanie\n",
      "kropotov-fomushka\n",
      "krylov-amerikantsy\n",
      "krylov-filomela\n",
      "krylov-podschipa-ili-trumf\n",
      "krylov-pirog\n",
      "krylov-modnaja-lavka\n",
      "krylov-prokazniki\n",
      "krylov-sonnyj-poroshok\n",
      "krylov-urok-dochkam\n",
      "lazhechnikov-okopirovalsya\n",
      "lensky-horosha-i-durna\n",
      "lermontov-maskarad\n",
      "lermontov-menschen-und-leidenschaften\n",
      "lermontov-strannyj-chelovek\n",
      "leskov-rastochitel\n",
      "lomonosov-demofont\n",
      "lomonosov-tamira-i-selim\n",
      "majkov-agriopa\n",
      "majkov-femist-i-ieronima\n",
      "mamin-sibirjak-malenkaja-pravda\n",
      "mamin-sibirjak-zolotopromyshlenniki\n",
      "mayakovsky-banja\n",
      "mayakovsky-klop\n",
      "mayakovsky-misteriya-buff\n",
      "merezhkovsky-pavel-pervyj\n",
      "naydyonov-deti-vanjushina\n",
      "nekrasov-akter\n",
      "nekrasov-junost-lomonosova\n",
      "nekrasov-shila-v-meshke-ne-utaish\n",
      "nekrasov-zabrakovannye\n",
      "nikolev-samolyubivyj-stihotvorec\n",
      "ozerov-dmitrij-donskoj\n",
      "ostrovsky-bednaja-nevesta\n",
      "ostrovsky-bednost-ne-porok\n",
      "ostrovsky-beshenye-dengi\n",
      "ostrovsky-bespridannitsa\n",
      "ostrovsky-bez-viny-vinovatye\n",
      "ostrovsky-bogatye-nevesty\n",
      "ostrovsky-dohodnoe-mesto\n",
      "ostrovsky-goryachee-serdce\n",
      "ostrovsky-groza\n",
      "ostrovsky-les\n",
      "ostrovsky-na-bojkom-meste\n",
      "ostrovsky-na-vsyakogo-mudreca-dovolno-prostoty\n",
      "ostrovsky-neozhidannyj-sluchaj\n",
      "ostrovsky-nevolnicy\n",
      "ostrovsky-poslednyaya-zhertva\n",
      "ostrovsky-prazdnichnyj-son-do-obeda\n",
      "ostrovsky-puchina\n",
      "ostrovsky-semejnaya-kartina\n",
      "ostrovsky-shutniki\n",
      "ostrovsky-snegurochka\n",
      "ostrovsky-staryj-drug-luchshe-novyh-dvuh\n",
      "ostrovsky-svoi-ljudi\n",
      "ostrovsky-svoi-sobaki-gryzutsya-chuzhaya-ne-pristavaj\n",
      "ostrovsky-utro-molodogo-cheloveka\n",
      "ostrovsky-v-chuzhom-piru-pohmelje\n",
      "ostrovsky-volki-i-ovtsy\n",
      "ostrovsky-vospitannica\n",
      "ostrovsky-za-chem-pojdesh-to-i-najdesh\n",
      "ostrovsky-ne-v-svoi-sani-ne-sadis\n",
      "ostrovsky-ne-soshlis-harakterami\n",
      "ostrovsky-ne-tak-zhivi-kak-hochetsya\n",
      "ostrovsky-greh-da-beda-na-kogo-ne-zhivet\n",
      "ostrovsky-tyazhelye-dni\n",
      "ostrovsky-ne-ot-mira-sego\n",
      "ostrovsky-trudovoj-hleb\n",
      "ostrovsky-pozdnyaya-lyubov\n",
      "ostrovsky-dmitrij-samozvanets-i-vasilij-shujskij\n",
      "petrov-ostrov-mira\n",
      "pisarev-lukavin\n",
      "pisarev-naslednica\n",
      "pisarev-poezdka-v-kronshtadt\n",
      "pisemskij-gorkaja-sudbina\n",
      "plavilshchikov-ermak-pokoritel-sibiri\n",
      "plavilshchikov-sgovor-kutejkina\n",
      "prutkov-blondy\n",
      "prutkov-chereposlov-sirech-frenolog\n",
      "prutkov-fantaziya\n",
      "prutkov-oprometchivyj-turka\n",
      "prutkov-spor-drevnih-grecheskih-filosofov\n",
      "prutkov-srodstvo-mirovyh-sil\n",
      "pushkin-boris-godunov\n",
      "pushkin-kamenniy-gost\n",
      "pushkin-mocart-i-saleri\n",
      "pushkin-pir-vo-vremja-chumy\n",
      "pushkin-rusalka\n",
      "pushkin-skupoj-rytsar\n",
      "pushkin-stseny-iz-rytsarskih-vremen\n",
      "rostopchina-neludimka\n",
      "saltykov-shchedrin-smert-pazuhina\n",
      "sollogub-chinovnik\n",
      "sudovshchikov-neslyhannoe-divo\n",
      "sumarokov-artistona\n",
      "sumarokov-chudovischi\n",
      "sumarokov-dimitrij-samozvanets\n",
      "sumarokov-gamlet\n",
      "sumarokov-horev\n",
      "sumarokov-opekun\n",
      "sumarokov-pridanoe-obmanom\n",
      "sumarokov-pustaja-ssora\n",
      "sumarokov-rogonosets-po-voobrazheniju\n",
      "sumarokov-semira\n",
      "sumarokov-sinav-i-truvor\n",
      "sumarokov-ssora-u-muzha-s-zhenoj\n",
      "sumarokov-tresotinius\n",
      "sumarokov-vzdorschitsa\n",
      "sukhovo-kobylin-delo\n",
      "sukhovo-kobylin-smert-tarelkina\n",
      "sukhovo-kobylin-svadba-krechinskogo\n",
      "tolstoy-smert-ioanna-groznogo\n",
      "tolstoy-tsar-boris\n",
      "tolstoy-tsar-fedor-ioannovich\n",
      "tolstoy-vlast-tmy\n",
      "tolstoy-zhivoy-trup\n",
      "tretyakov-protivogazy\n",
      "turgenev-gde-tonko-tam-i-rvetsja\n",
      "turgenev-holostjak\n",
      "turgenev-mesjats-v-derevne\n",
      "turgenev-nahlebnik\n",
      "turgenev-neostorozhnost\n",
      "turgenev-provintsialka\n",
      "turgenev-razgovor-na-bolshoj-doroge\n",
      "turgenev-vecher-v-sorrente\n",
      "turgenev-zavtrak-u-predvoditelja\n",
      "fonvizin-nedorosl\n",
      "fonvizin-korion\n",
      "fonvizin-vybor-guvernera\n",
      "fonvizin-brigadir\n",
      "kheraskov-osvobozhdennaja-moskva\n",
      "kheraskov-venecianskaya-monahinya\n",
      "kheraskov-plamena\n",
      "khlebnikov-snezhimochka\n",
      "khmelnitsky-vzaimnye-ispytaniya\n",
      "khmelnitsky-govorun\n",
      "khmelnitsky-vozdushnye-zamki\n",
      "khmelnitsky-svetskiy-sluchay\n",
      "chekhov-tragik-ponevole\n",
      "chekhov-svadba\n",
      "chekhov-tri-sestry\n",
      "chekhov-noch-pered-sudom\n",
      "chekhov-leshii\n",
      "chekhov-predlozhenie\n",
      "chekhov-chaika\n",
      "chekhov-medved\n",
      "chekhov-na-bolshoi-doroge\n",
      "chekhov-ivanov\n",
      "chekhov-tatjana-repina\n",
      "chekhov-djadja-vanja\n",
      "chekhov-vishnevyi-sad\n",
      "chekhov-jubilej\n",
      "shakhovskoy-ne-lubo-ne-slushai\n",
      "shakhovskoy-pustodomy\n",
      "shakhovskoy-svoya-semya\n",
      "shakhovskoy-urok-koketkam\n"
     ]
    }
   ],
   "source": [
    "for play_name in df_by_line[\"play\"].unique():\n",
    "    print(play_name)\n",
    "    try:\n",
    "        kappas = []\n",
    "        data_to_viz = df_by_line[df_by_line[\"play\"] == play_name][lexicons]\n",
    "        for pair in lexicons_pairs:\n",
    "            k = cohen_kappa_score(data_to_viz[pair[0]], data_to_viz[pair[1]])\n",
    "            kappas.append(k)\n",
    "            lexicons_pairwise[pair].append(k)\n",
    "            # print(\"\\t\", pair, k)\n",
    "        # print(\"AVERAGE: {}\".format(sum(kappas)/len(kappas)))\n",
    "    except:\n",
    "        print(\"ERROR\")"
   ]
  },
  {
   "cell_type": "code",
   "execution_count": 12,
   "metadata": {},
   "outputs": [],
   "source": [
    "lexicons_pairwise_mean = {\n",
    "    lexicons_key: mean(lexicons_pairwise[lexicons_key]) for lexicons_key in lexicons_pairwise\n",
    "}"
   ]
  },
  {
   "cell_type": "markdown",
   "metadata": {},
   "source": [
    "Converting these into a Seaborn heatmap to visualise agreement:"
   ]
  },
  {
   "cell_type": "code",
   "execution_count": 13,
   "metadata": {},
   "outputs": [],
   "source": [
    "M = np.zeros((len(lexicons), len(lexicons)))\n",
    "for l_mean in lexicons_pairwise_mean:\n",
    "    ind_1 = lexicons.index(l_mean[0])\n",
    "    ind_2 = lexicons.index(l_mean[1])\n",
    "    M[ind_1][ind_2] = lexicons_pairwise_mean[l_mean]"
   ]
  },
  {
   "cell_type": "code",
   "execution_count": 14,
   "metadata": {},
   "outputs": [
    {
     "data": {
      "image/png": "[encoded data removed]",
      "text/plain": [
       "<Figure size 720x720 with 2 Axes>"
      ]
     },
     "metadata": {
      "needs_background": "light"
     },
     "output_type": "display_data"
    }
   ],
   "source": [
    "plt.figure(figsize=(10,10))\n",
    "plt.title(\"Inter-lexicon agreement (Cohen's kappa)\")\n",
    "sns.heatmap(M, xticklabels=lexicons, yticklabels=lexicons, annot=True);\n",
    "plt.savefig(\"./data/figures/inter_lexicon_agreement.png\", dpi=600)"
   ]
  },
  {
   "cell_type": "markdown",
   "metadata": {},
   "source": [
    "### 3.1 &emsp; How many lines in each play were annotated the same way for all five lexicons?"
   ]
  },
  {
   "cell_type": "markdown",
   "metadata": {},
   "source": [
    "Positive lines:"
   ]
  },
  {
   "cell_type": "code",
   "execution_count": 15,
   "metadata": {},
   "outputs": [
    {
     "data": {
      "text/html": [
       "<div>\n",
       "<style scoped>\n",
       "    .dataframe tbody tr th:only-of-type {\n",
       "        vertical-align: middle;\n",
       "    }\n",
       "\n",
       "    .dataframe tbody tr th {\n",
       "        vertical-align: top;\n",
       "    }\n",
       "\n",
       "    .dataframe thead th {\n",
       "        text-align: right;\n",
       "    }\n",
       "</style>\n",
       "<table border=\"1\" class=\"dataframe\">\n",
       "  <thead>\n",
       "    <tr style=\"text-align: right;\">\n",
       "      <th></th>\n",
       "      <th>play</th>\n",
       "      <th>line</th>\n",
       "      <th>line, lemmas</th>\n",
       "      <th>line type</th>\n",
       "      <th>RuSentiLex</th>\n",
       "      <th>EmoLex</th>\n",
       "      <th>LinisCrowd</th>\n",
       "      <th>ChenSkiena</th>\n",
       "      <th>ProductSentiRus</th>\n",
       "      <th>SentiRusColl</th>\n",
       "    </tr>\n",
       "  </thead>\n",
       "  <tbody>\n",
       "    <tr>\n",
       "      <td>114</td>\n",
       "      <td>andreyev-ne-ubiy</td>\n",
       "      <td>Вот и я к вам. Да милая ж вы моя Василиса Петр...</td>\n",
       "      <td>вот и я к вы да милый ж вы мой василиса петров...</td>\n",
       "      <td>spoken</td>\n",
       "      <td>1</td>\n",
       "      <td>1</td>\n",
       "      <td>1</td>\n",
       "      <td>1</td>\n",
       "      <td>1</td>\n",
       "      <td>0</td>\n",
       "    </tr>\n",
       "    <tr>\n",
       "      <td>519</td>\n",
       "      <td>andreyev-ne-ubiy</td>\n",
       "      <td>Чудесная свадьба!</td>\n",
       "      <td>чудесный свадьба</td>\n",
       "      <td>spoken</td>\n",
       "      <td>1</td>\n",
       "      <td>1</td>\n",
       "      <td>1</td>\n",
       "      <td>1</td>\n",
       "      <td>1</td>\n",
       "      <td>0</td>\n",
       "    </tr>\n",
       "    <tr>\n",
       "      <td>925</td>\n",
       "      <td>andreyev-ne-ubiy</td>\n",
       "      <td>Кто идут? Яшенька, голубчик, милый, спрячь мен...</td>\n",
       "      <td>кто идти яшенька голубчик милый спрятать я спр...</td>\n",
       "      <td>spoken</td>\n",
       "      <td>1</td>\n",
       "      <td>1</td>\n",
       "      <td>1</td>\n",
       "      <td>1</td>\n",
       "      <td>1</td>\n",
       "      <td>0</td>\n",
       "    </tr>\n",
       "    <tr>\n",
       "      <td>1577</td>\n",
       "      <td>andreyev-mysl</td>\n",
       "      <td>Вы милый, Антон Игнатьич, вы милый! -- Кто это?</td>\n",
       "      <td>вы милый антон игнатьич вы милый кто это</td>\n",
       "      <td>spoken</td>\n",
       "      <td>1</td>\n",
       "      <td>1</td>\n",
       "      <td>1</td>\n",
       "      <td>1</td>\n",
       "      <td>1</td>\n",
       "      <td>0</td>\n",
       "    </tr>\n",
       "    <tr>\n",
       "      <td>1585</td>\n",
       "      <td>andreyev-mysl</td>\n",
       "      <td>Нет, ничего. Милый! Так, не знаю. Алексей звон...</td>\n",
       "      <td>нет ничто милый так не знать алексей звонить и...</td>\n",
       "      <td>spoken</td>\n",
       "      <td>1</td>\n",
       "      <td>1</td>\n",
       "      <td>1</td>\n",
       "      <td>1</td>\n",
       "      <td>1</td>\n",
       "      <td>0</td>\n",
       "    </tr>\n",
       "  </tbody>\n",
       "</table>\n",
       "</div>"
      ],
      "text/plain": [
       "                  play                                               line  \\\n",
       "114   andreyev-ne-ubiy  Вот и я к вам. Да милая ж вы моя Василиса Петр...   \n",
       "519   andreyev-ne-ubiy                                  Чудесная свадьба!   \n",
       "925   andreyev-ne-ubiy  Кто идут? Яшенька, голубчик, милый, спрячь мен...   \n",
       "1577     andreyev-mysl    Вы милый, Антон Игнатьич, вы милый! -- Кто это?   \n",
       "1585     andreyev-mysl  Нет, ничего. Милый! Так, не знаю. Алексей звон...   \n",
       "\n",
       "                                           line, lemmas line type  RuSentiLex  \\\n",
       "114   вот и я к вы да милый ж вы мой василиса петров...    spoken           1   \n",
       "519                                    чудесный свадьба    spoken           1   \n",
       "925   кто идти яшенька голубчик милый спрятать я спр...    spoken           1   \n",
       "1577           вы милый антон игнатьич вы милый кто это    spoken           1   \n",
       "1585  нет ничто милый так не знать алексей звонить и...    spoken           1   \n",
       "\n",
       "      EmoLex  LinisCrowd  ChenSkiena  ProductSentiRus  SentiRusColl  \n",
       "114        1           1           1                1             0  \n",
       "519        1           1           1                1             0  \n",
       "925        1           1           1                1             0  \n",
       "1577       1           1           1                1             0  \n",
       "1585       1           1           1                1             0  "
      ]
     },
     "execution_count": 15,
     "metadata": {},
     "output_type": "execute_result"
    }
   ],
   "source": [
    "positive_df = df_by_line[(df_by_line[\"RuSentiLex\"] > 0) & (df_by_line[\"EmoLex\"] > 0) & (df_by_line[\"LinisCrowd\"] > 0)\n",
    "          & (df_by_line[\"ChenSkiena\"] > 0)]\n",
    "positive_df.head()\n",
    "positive_df[\"line, lemmas\"].to_csv(\"./positive_lines_lemmas.txt\", index=False)"
   ]
  },
  {
   "cell_type": "markdown",
   "metadata": {},
   "source": [
    "Negative lines:"
   ]
  },
  {
   "cell_type": "code",
   "execution_count": 18,
   "metadata": {},
   "outputs": [
    {
     "data": {
      "text/html": [
       "<div>\n",
       "<style scoped>\n",
       "    .dataframe tbody tr th:only-of-type {\n",
       "        vertical-align: middle;\n",
       "    }\n",
       "\n",
       "    .dataframe tbody tr th {\n",
       "        vertical-align: top;\n",
       "    }\n",
       "\n",
       "    .dataframe thead th {\n",
       "        text-align: right;\n",
       "    }\n",
       "</style>\n",
       "<table border=\"1\" class=\"dataframe\">\n",
       "  <thead>\n",
       "    <tr style=\"text-align: right;\">\n",
       "      <th></th>\n",
       "      <th>play</th>\n",
       "      <th>line</th>\n",
       "      <th>line, lemmas</th>\n",
       "      <th>line type</th>\n",
       "      <th>RuSentiLex</th>\n",
       "      <th>EmoLex</th>\n",
       "      <th>LinisCrowd</th>\n",
       "      <th>ChenSkiena</th>\n",
       "      <th>ProductSentiRus</th>\n",
       "      <th>SentiRusColl</th>\n",
       "    </tr>\n",
       "  </thead>\n",
       "  <tbody>\n",
       "    <tr>\n",
       "      <td>46</td>\n",
       "      <td>andreyev-ne-ubiy</td>\n",
       "      <td>Яна тебя уж так полагаюсь... Яша, а аду ты бои...</td>\n",
       "      <td>яна ты уж так полагаться яша а ад ты бояться</td>\n",
       "      <td>spoken</td>\n",
       "      <td>-1</td>\n",
       "      <td>-1</td>\n",
       "      <td>-1</td>\n",
       "      <td>-1</td>\n",
       "      <td>-1</td>\n",
       "      <td>0</td>\n",
       "    </tr>\n",
       "    <tr>\n",
       "      <td>88</td>\n",
       "      <td>andreyev-ne-ubiy</td>\n",
       "      <td>Иди. Закон не запрещает. А нет ужина, нет дене...</td>\n",
       "      <td>идти закон не запрещать а нет ужин нет деньги ...</td>\n",
       "      <td>spoken</td>\n",
       "      <td>-1</td>\n",
       "      <td>-1</td>\n",
       "      <td>-1</td>\n",
       "      <td>-1</td>\n",
       "      <td>-1</td>\n",
       "      <td>0</td>\n",
       "    </tr>\n",
       "    <tr>\n",
       "      <td>96</td>\n",
       "      <td>andreyev-ne-ubiy</td>\n",
       "      <td>Сплю. Совершенно спокойно. Зачем мне беспокоит...</td>\n",
       "      <td>спать совершенно спокойно зачем я беспокоиться...</td>\n",
       "      <td>spoken</td>\n",
       "      <td>-1</td>\n",
       "      <td>-1</td>\n",
       "      <td>-1</td>\n",
       "      <td>-1</td>\n",
       "      <td>-1</td>\n",
       "      <td>0</td>\n",
       "    </tr>\n",
       "    <tr>\n",
       "      <td>102</td>\n",
       "      <td>andreyev-ne-ubiy</td>\n",
       "      <td>Врешь! Зверь на четвереньках ходит, а я челове...</td>\n",
       "      <td>врать зверь на четвереньки ходить а я человек ...</td>\n",
       "      <td>spoken</td>\n",
       "      <td>-1</td>\n",
       "      <td>-1</td>\n",
       "      <td>-1</td>\n",
       "      <td>-1</td>\n",
       "      <td>-1</td>\n",
       "      <td>0</td>\n",
       "    </tr>\n",
       "    <tr>\n",
       "      <td>189</td>\n",
       "      <td>andreyev-ne-ubiy</td>\n",
       "      <td>Яша! Смотри, Яшенька, сюртучок надел. Вот же н...</td>\n",
       "      <td>яша смотреть яшенька сюртучок надевать вот же ...</td>\n",
       "      <td>spoken</td>\n",
       "      <td>-1</td>\n",
       "      <td>-1</td>\n",
       "      <td>-1</td>\n",
       "      <td>-1</td>\n",
       "      <td>-1</td>\n",
       "      <td>0</td>\n",
       "    </tr>\n",
       "  </tbody>\n",
       "</table>\n",
       "</div>"
      ],
      "text/plain": [
       "                 play                                               line  \\\n",
       "46   andreyev-ne-ubiy  Яна тебя уж так полагаюсь... Яша, а аду ты бои...   \n",
       "88   andreyev-ne-ubiy  Иди. Закон не запрещает. А нет ужина, нет дене...   \n",
       "96   andreyev-ne-ubiy  Сплю. Совершенно спокойно. Зачем мне беспокоит...   \n",
       "102  andreyev-ne-ubiy  Врешь! Зверь на четвереньках ходит, а я челове...   \n",
       "189  andreyev-ne-ubiy  Яша! Смотри, Яшенька, сюртучок надел. Вот же н...   \n",
       "\n",
       "                                          line, lemmas line type  RuSentiLex  \\\n",
       "46        яна ты уж так полагаться яша а ад ты бояться    spoken          -1   \n",
       "88   идти закон не запрещать а нет ужин нет деньги ...    spoken          -1   \n",
       "96   спать совершенно спокойно зачем я беспокоиться...    spoken          -1   \n",
       "102  врать зверь на четвереньки ходить а я человек ...    spoken          -1   \n",
       "189  яша смотреть яшенька сюртучок надевать вот же ...    spoken          -1   \n",
       "\n",
       "     EmoLex  LinisCrowd  ChenSkiena  ProductSentiRus  SentiRusColl  \n",
       "46       -1          -1          -1               -1             0  \n",
       "88       -1          -1          -1               -1             0  \n",
       "96       -1          -1          -1               -1             0  \n",
       "102      -1          -1          -1               -1             0  \n",
       "189      -1          -1          -1               -1             0  "
      ]
     },
     "execution_count": 18,
     "metadata": {},
     "output_type": "execute_result"
    }
   ],
   "source": [
    "negative_df = df_by_line[(df_by_line[\"RuSentiLex\"] == -1) & (df_by_line[\"EmoLex\"] == -1) & (df_by_line[\"LinisCrowd\"] == -1)\n",
    "          & (df_by_line[\"ChenSkiena\"] == -1)]\n",
    "negative_df[\"line, lemmas\"].to_csv(\"./data/negative_lines_lemmas.txt\", index=False)\n",
    "negative_df.head()"
   ]
  },
  {
   "cell_type": "markdown",
   "metadata": {},
   "source": [
    "## 3 &emsp; Epification\n",
    "\n",
    "We have proven that Russian drama is also prone to epification. Let's check it with sentiment analysis."
   ]
  },
  {
   "cell_type": "code",
   "execution_count": 19,
   "metadata": {},
   "outputs": [
    {
     "data": {
      "text/html": [
       "<div>\n",
       "<style scoped>\n",
       "    .dataframe tbody tr th:only-of-type {\n",
       "        vertical-align: middle;\n",
       "    }\n",
       "\n",
       "    .dataframe tbody tr th {\n",
       "        vertical-align: top;\n",
       "    }\n",
       "\n",
       "    .dataframe thead th {\n",
       "        text-align: right;\n",
       "    }\n",
       "</style>\n",
       "<table border=\"1\" class=\"dataframe\">\n",
       "  <thead>\n",
       "    <tr style=\"text-align: right;\">\n",
       "      <th></th>\n",
       "      <th>play_name</th>\n",
       "      <th>year</th>\n",
       "    </tr>\n",
       "  </thead>\n",
       "  <tbody>\n",
       "    <tr>\n",
       "      <td>0</td>\n",
       "      <td>andreyev-ne-ubiy</td>\n",
       "      <td>1913</td>\n",
       "    </tr>\n",
       "    <tr>\n",
       "      <td>1</td>\n",
       "      <td>andreyev-mysl</td>\n",
       "      <td>1914</td>\n",
       "    </tr>\n",
       "    <tr>\n",
       "      <td>2</td>\n",
       "      <td>andreyev-k-zvezdam</td>\n",
       "      <td>1906</td>\n",
       "    </tr>\n",
       "    <tr>\n",
       "      <td>3</td>\n",
       "      <td>afinogenov-mashenka</td>\n",
       "      <td>1941</td>\n",
       "    </tr>\n",
       "    <tr>\n",
       "      <td>4</td>\n",
       "      <td>babel-zakat</td>\n",
       "      <td>1927</td>\n",
       "    </tr>\n",
       "  </tbody>\n",
       "</table>\n",
       "</div>"
      ],
      "text/plain": [
       "             play_name  year\n",
       "0     andreyev-ne-ubiy  1913\n",
       "1        andreyev-mysl  1914\n",
       "2   andreyev-k-zvezdam  1906\n",
       "3  afinogenov-mashenka  1941\n",
       "4          babel-zakat  1927"
      ]
     },
     "execution_count": 19,
     "metadata": {},
     "output_type": "execute_result"
    }
   ],
   "source": [
    "play_years = pd.read_csv(\"./data/rusdracor/play_years.csv\", encoding=\"utf-8\", sep=\",\")\n",
    "play_years.head()"
   ]
  },
  {
   "cell_type": "code",
   "execution_count": 20,
   "metadata": {},
   "outputs": [],
   "source": [
    "def assign_year(play):\n",
    "    return play_years[play_years[\"play_name\"] == play][\"year\"].values[0]"
   ]
  },
  {
   "cell_type": "code",
   "execution_count": 21,
   "metadata": {},
   "outputs": [],
   "source": [
    "df_with_years = deepcopy(df)"
   ]
  },
  {
   "cell_type": "code",
   "execution_count": 22,
   "metadata": {},
   "outputs": [
    {
     "data": {
      "text/html": [
       "<div>\n",
       "<style scoped>\n",
       "    .dataframe tbody tr th:only-of-type {\n",
       "        vertical-align: middle;\n",
       "    }\n",
       "\n",
       "    .dataframe tbody tr th {\n",
       "        vertical-align: top;\n",
       "    }\n",
       "\n",
       "    .dataframe thead th {\n",
       "        text-align: right;\n",
       "    }\n",
       "</style>\n",
       "<table border=\"1\" class=\"dataframe\">\n",
       "  <thead>\n",
       "    <tr style=\"text-align: right;\">\n",
       "      <th></th>\n",
       "      <th>play</th>\n",
       "      <th>lexicon</th>\n",
       "      <th>spoken, total</th>\n",
       "      <th>spoken positive</th>\n",
       "      <th>spoken positive, %</th>\n",
       "      <th>spoken negative</th>\n",
       "      <th>spoken negative, %</th>\n",
       "      <th>stage, total</th>\n",
       "      <th>stage positive</th>\n",
       "      <th>stage positive, %</th>\n",
       "      <th>stage negative</th>\n",
       "      <th>stage negative, %</th>\n",
       "      <th>year</th>\n",
       "      <th>stage emotion, %</th>\n",
       "    </tr>\n",
       "  </thead>\n",
       "  <tbody>\n",
       "    <tr>\n",
       "      <td>0</td>\n",
       "      <td>andreyev-ne-ubiy</td>\n",
       "      <td>RuSentiLex</td>\n",
       "      <td>971</td>\n",
       "      <td>155</td>\n",
       "      <td>15.962925</td>\n",
       "      <td>287</td>\n",
       "      <td>29.557158</td>\n",
       "      <td>340</td>\n",
       "      <td>37</td>\n",
       "      <td>10.882353</td>\n",
       "      <td>67</td>\n",
       "      <td>19.705882</td>\n",
       "      <td>1913</td>\n",
       "      <td>30.588235</td>\n",
       "    </tr>\n",
       "    <tr>\n",
       "      <td>1</td>\n",
       "      <td>andreyev-ne-ubiy</td>\n",
       "      <td>EmoLex</td>\n",
       "      <td>971</td>\n",
       "      <td>335</td>\n",
       "      <td>34.500515</td>\n",
       "      <td>144</td>\n",
       "      <td>14.830072</td>\n",
       "      <td>340</td>\n",
       "      <td>57</td>\n",
       "      <td>16.764706</td>\n",
       "      <td>54</td>\n",
       "      <td>15.882353</td>\n",
       "      <td>1913</td>\n",
       "      <td>32.647059</td>\n",
       "    </tr>\n",
       "    <tr>\n",
       "      <td>2</td>\n",
       "      <td>andreyev-ne-ubiy</td>\n",
       "      <td>SentiRusColl</td>\n",
       "      <td>971</td>\n",
       "      <td>0</td>\n",
       "      <td>0.000000</td>\n",
       "      <td>0</td>\n",
       "      <td>0.000000</td>\n",
       "      <td>340</td>\n",
       "      <td>0</td>\n",
       "      <td>0.000000</td>\n",
       "      <td>0</td>\n",
       "      <td>0.000000</td>\n",
       "      <td>1913</td>\n",
       "      <td>0.000000</td>\n",
       "    </tr>\n",
       "    <tr>\n",
       "      <td>3</td>\n",
       "      <td>andreyev-ne-ubiy</td>\n",
       "      <td>LinisCrowd</td>\n",
       "      <td>971</td>\n",
       "      <td>140</td>\n",
       "      <td>14.418126</td>\n",
       "      <td>284</td>\n",
       "      <td>29.248198</td>\n",
       "      <td>340</td>\n",
       "      <td>36</td>\n",
       "      <td>10.588235</td>\n",
       "      <td>61</td>\n",
       "      <td>17.941176</td>\n",
       "      <td>1913</td>\n",
       "      <td>28.529412</td>\n",
       "    </tr>\n",
       "    <tr>\n",
       "      <td>4</td>\n",
       "      <td>andreyev-ne-ubiy</td>\n",
       "      <td>ChenSkiena</td>\n",
       "      <td>971</td>\n",
       "      <td>420</td>\n",
       "      <td>43.254377</td>\n",
       "      <td>131</td>\n",
       "      <td>13.491246</td>\n",
       "      <td>340</td>\n",
       "      <td>73</td>\n",
       "      <td>21.470588</td>\n",
       "      <td>49</td>\n",
       "      <td>14.411765</td>\n",
       "      <td>1913</td>\n",
       "      <td>35.882353</td>\n",
       "    </tr>\n",
       "  </tbody>\n",
       "</table>\n",
       "</div>"
      ],
      "text/plain": [
       "               play       lexicon  spoken, total  spoken positive  \\\n",
       "0  andreyev-ne-ubiy    RuSentiLex            971              155   \n",
       "1  andreyev-ne-ubiy        EmoLex            971              335   \n",
       "2  andreyev-ne-ubiy  SentiRusColl            971                0   \n",
       "3  andreyev-ne-ubiy    LinisCrowd            971              140   \n",
       "4  andreyev-ne-ubiy    ChenSkiena            971              420   \n",
       "\n",
       "   spoken positive, %  spoken negative  spoken negative, %  stage, total  \\\n",
       "0           15.962925              287           29.557158           340   \n",
       "1           34.500515              144           14.830072           340   \n",
       "2            0.000000                0            0.000000           340   \n",
       "3           14.418126              284           29.248198           340   \n",
       "4           43.254377              131           13.491246           340   \n",
       "\n",
       "   stage positive  stage positive, %  stage negative  stage negative, %  year  \\\n",
       "0              37          10.882353              67          19.705882  1913   \n",
       "1              57          16.764706              54          15.882353  1913   \n",
       "2               0           0.000000               0           0.000000  1913   \n",
       "3              36          10.588235              61          17.941176  1913   \n",
       "4              73          21.470588              49          14.411765  1913   \n",
       "\n",
       "   stage emotion, %  \n",
       "0         30.588235  \n",
       "1         32.647059  \n",
       "2          0.000000  \n",
       "3         28.529412  \n",
       "4         35.882353  "
      ]
     },
     "execution_count": 22,
     "metadata": {},
     "output_type": "execute_result"
    }
   ],
   "source": [
    "df_with_years[\"year\"] = df_with_years[\"play\"].apply(assign_year)\n",
    "df_with_years[\"stage emotion, %\"] = df_with_years[\"stage positive, %\"] + df_with_years[\"stage negative, %\"]\n",
    "df_with_years.head()"
   ]
  },
  {
   "cell_type": "code",
   "execution_count": 23,
   "metadata": {},
   "outputs": [
    {
     "data": {
      "image/png": "[encoded data removed]",
      "text/plain": [
       "<Figure size 838.25x720 with 1 Axes>"
      ]
     },
     "metadata": {
      "needs_background": "light"
     },
     "output_type": "display_data"
    }
   ],
   "source": [
    "g = sns.FacetGrid(df_with_years, hue=\"lexicon\", height=10)\n",
    "plt.title(\"Percentage of emotional stage directions\")\n",
    "g.map(sns.regplot, \"year\", \"stage positive, %\", scatter_kws={'alpha':0.5})\n",
    "g.add_legend();\n",
    "plt.savefig(\"./data/figures/emotional_percentage.png\", dpi=600)"
   ]
  },
  {
   "cell_type": "markdown",
   "metadata": {},
   "source": [
    "Looks like I was right in my [3rd year BA assumptions](https://github.com/creaciond/russian-drama) — epification really does take place in Russian drama!"
   ]
  }
 ],
 "metadata": {
  "kernelspec": {
   "display_name": "Python 3",
   "language": "python",
   "name": "python3"
  },
  "language_info": {
   "codemirror_mode": {
    "name": "ipython",
    "version": 3
   },
   "file_extension": ".py",
   "mimetype": "text/x-python",
   "name": "python",
   "nbconvert_exporter": "python",
   "pygments_lexer": "ipython3",
   "version": "3.6.8"
  }
 },
 "nbformat": 4,
 "nbformat_minor": 4
}
