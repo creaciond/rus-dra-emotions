{
 "cells": [
  {
   "cell_type": "markdown",
   "metadata": {},
   "source": [
    "# Comparing different lexicons\n",
    "\n",
    "Let's see how sentiment analysis results will change when we change the lexicon we use for finding out emotional words."
   ]
  },
  {
   "cell_type": "code",
   "execution_count": 1,
   "metadata": {},
   "outputs": [],
   "source": [
    "import os\n",
    "\n",
    "import numpy as np\n",
    "import pandas as pd\n",
    "import seaborn as sns\n",
    "\n",
    "from tqdm import tqdm"
   ]
  },
  {
   "cell_type": "code",
   "execution_count": 2,
   "metadata": {},
   "outputs": [],
   "source": [
    "import warnings\n",
    "warnings.simplefilter(\"ignore\")"
   ]
  },
  {
   "cell_type": "markdown",
   "metadata": {},
   "source": [
    "Also, some imports with Jupyter Notebook magic:"
   ]
  },
  {
   "cell_type": "code",
   "execution_count": 3,
   "metadata": {},
   "outputs": [],
   "source": [
    "import matplotlib.pyplot as plt\n",
    "%matplotlib inline"
   ]
  },
  {
   "cell_type": "markdown",
   "metadata": {},
   "source": [
    "...and some fixed variables:"
   ]
  },
  {
   "cell_type": "code",
   "execution_count": 4,
   "metadata": {},
   "outputs": [],
   "source": [
    "from pymystem3 import Mystem\n",
    "mystem = Mystem()"
   ]
  },
  {
   "cell_type": "markdown",
   "metadata": {},
   "source": [
    "## 1 &emsp; Data preparation\n",
    "\n",
    "### 1.1 &emsp; Lexicons"
   ]
  },
  {
   "cell_type": "markdown",
   "metadata": {},
   "source": [
    "Loading lexicon list:"
   ]
  },
  {
   "cell_type": "code",
   "execution_count": 5,
   "metadata": {},
   "outputs": [],
   "source": [
    "path_to_lexicons = \"./data/sentiment_datasets\"\n",
    "lexicons = [lex[:-4] for lex in os.listdir(path_to_lexicons) if lex.endswith(\".csv\")]"
   ]
  },
  {
   "cell_type": "markdown",
   "metadata": {},
   "source": [
    "List of lexicons we are going to use are:"
   ]
  },
  {
   "cell_type": "code",
   "execution_count": 6,
   "metadata": {},
   "outputs": [
    {
     "data": {
      "text/plain": [
       "['RuSentiLex', 'EmoLex', 'LinisCrowd', 'ChenSkiena', 'ProductSentiRus']"
      ]
     },
     "execution_count": 6,
     "metadata": {},
     "output_type": "execute_result"
    }
   ],
   "source": [
    "lexicons"
   ]
  },
  {
   "cell_type": "markdown",
   "metadata": {},
   "source": [
    "Now, loading the lexicons themselves:"
   ]
  },
  {
   "cell_type": "code",
   "execution_count": 7,
   "metadata": {},
   "outputs": [],
   "source": [
    "lexicons_dict = {}\n",
    "for lexicon in lexicons:\n",
    "    lex_df = pd.read_csv(\"./data/sentiment_datasets/{}.csv\".format(lexicon), sep=\";\", encoding=\"utf-8\")\n",
    "    lexicons_dict[lexicon] = lex_df"
   ]
  },
  {
   "cell_type": "markdown",
   "metadata": {},
   "source": [
    "### 1.2 &emsp; Plays"
   ]
  },
  {
   "cell_type": "markdown",
   "metadata": {},
   "source": [
    "Plays we'll be analysing in this case:"
   ]
  },
  {
   "cell_type": "code",
   "execution_count": 8,
   "metadata": {},
   "outputs": [],
   "source": [
    "with open(\"./data/rusdracor_list.txt\", \"r\", encoding=\"utf-8\") as f:\n",
    "    play_list = [play.strip(\"\\n\") for play in f.readlines()]"
   ]
  },
  {
   "cell_type": "markdown",
   "metadata": {},
   "source": [
    "Plays:"
   ]
  },
  {
   "cell_type": "code",
   "execution_count": 9,
   "metadata": {},
   "outputs": [
    {
     "name": "stdout",
     "output_type": "stream",
     "text": [
      "andreyev-ne-ubiy, andreyev-mysl, andreyev-k-zvezdam, afinogenov-mashenka, babel-marija, babel-zakat, belsky-skazanie-o-nevidimom-grade-kitezhe, blok-balaganchik, blok-neznakomka, blok-korol-na-ploschadi, bulgakov-ivan-vasilevich, bulgakov-beg, bulgakov-zojkina-kvartira, bulgakov-poslednie-dni, bulgakov-poloumnyj-zhurden, bulgakov-dni-turbinyh, bulgakov-kabala-svjatosh, bulgakov-vojna-i-mir, bulgakov-batum, bulgakov-adam-i-eva, glinka-velzen, gogol-igroki, gogol-utro-delovogo-cheloveka, gogol-teatralnyi-razezd, gogol-tjazhba, gogol-otryvok, gogol-zhenitba, gogol-revizor, gogol-lakeiskaja, gorky-egor-bulychov-i-drugie, gorky-na-dne, gorky-vassa-zheleznova, griboyedov-molodye-suprugi, griboyedov-gore-ot-uma, gumilyov-akteon, gumilyov-ditja-allaha, gumilyov-gondla, gumilyov-don-zhuan-v-egipte, dashkova-toisiokov, ekaterina-vtoraja-o-vremja, ekaterina-vtoraja-iz-zhizni-rjurika, ekaterina-vtoraja-rasstroennaja-semja, zagoskin-blagorodnyj-teatr, kapnist-antigona, kapnist-yabeda, kedrin-rembrandt, knyazhnin-hvastun, knyazhnin-olga, knyazhnin-traur, knyazhnin-neudachnyj-primiritel, knyazhnin-vadim-novgorodskij, knyazhnin-rosslav, knyazhnin-didona, knyazhnin-chudaki, kokoshkin-vospitanie, kropotov-fomushka, krylov-amerikantsy, krylov-filomela, krylov-podschipa-ili-trumf, krylov-pirog, krylov-modnaja-lavka, krylov-prokazniki, krylov-sonnyj-poroshok, krylov-urok-dochkam, lazhechnikov-okopirovalsya, lensky-horosha-i-durna, lermontov-maskarad, lermontov-menschen-und-leidenschaften, lermontov-strannyj-chelovek, leskov-rastochitel, lomonosov-demofont, lomonosov-tamira-i-selim, majkov-agriopa, majkov-femist-i-ieronima, mamin-sibirjak-malenkaja-pravda, mamin-sibirjak-zolotopromyshlenniki, mayakovsky-banja, mayakovsky-klop, mayakovsky-misteriya-buff, merezhkovsky-pavel-pervyj, naydyonov-deti-vanjushina, nekrasov-akter, nekrasov-junost-lomonosova, nekrasov-shila-v-meshke-ne-utaish, nekrasov-zabrakovannye, nikolev-samolyubivyj-stihotvorec, ozerov-dmitrij-donskoj, ostrovsky-bednaja-nevesta, ostrovsky-bednost-ne-porok, ostrovsky-beshenye-dengi, ostrovsky-bespridannitsa, ostrovsky-bez-viny-vinovatye, ostrovsky-bogatye-nevesty, ostrovsky-dohodnoe-mesto, ostrovsky-goryachee-serdce, ostrovsky-groza, ostrovsky-les, ostrovsky-na-bojkom-meste, ostrovsky-na-vsyakogo-mudreca-dovolno-prostoty, ostrovsky-neozhidannyj-sluchaj, ostrovsky-nevolnicy, ostrovsky-poslednyaya-zhertva, ostrovsky-prazdnichnyj-son-do-obeda, ostrovsky-puchina, ostrovsky-semejnaya-kartina, ostrovsky-shutniki, ostrovsky-snegurochka, ostrovsky-staryj-drug-luchshe-novyh-dvuh, ostrovsky-svoi-ljudi, ostrovsky-svoi-sobaki-gryzutsya-chuzhaya-ne-pristavaj, ostrovsky-utro-molodogo-cheloveka, ostrovsky-v-chuzhom-piru-pohmelje, ostrovsky-volki-i-ovtsy, ostrovsky-vospitannica, ostrovsky-za-chem-pojdesh-to-i-najdesh, ostrovsky-ne-v-svoi-sani-ne-sadis, ostrovsky-ne-soshlis-harakterami, ostrovsky-ne-tak-zhivi-kak-hochetsya, ostrovsky-greh-da-beda-na-kogo-ne-zhivet, ostrovsky-tyazhelye-dni, ostrovsky-ne-ot-mira-sego, ostrovsky-trudovoj-hleb, ostrovsky-pozdnyaya-lyubov, ostrovsky-dmitrij-samozvanets-i-vasilij-shujskij, petrov-ostrov-mira, pisarev-lukavin, pisarev-naslednica, pisarev-poezdka-v-kronshtadt, pisemskij-gorkaja-sudbina, plavilshchikov-ermak-pokoritel-sibiri, plavilshchikov-sgovor-kutejkina, prutkov-blondy, prutkov-chereposlov-sirech-frenolog, prutkov-fantaziya, prutkov-oprometchivyj-turka, prutkov-spor-drevnih-grecheskih-filosofov, prutkov-srodstvo-mirovyh-sil, pushkin-boris-godunov, pushkin-kamenniy-gost, pushkin-mocart-i-saleri, pushkin-pir-vo-vremja-chumy, pushkin-rusalka, pushkin-skupoj-rytsar, pushkin-stseny-iz-rytsarskih-vremen, rostopchina-neludimka, saltykov-shchedrin-smert-pazuhina, sollogub-chinovnik, sudovshchikov-neslyhannoe-divo, sumarokov-artistona, sumarokov-chudovischi, sumarokov-dimitrij-samozvanets, sumarokov-gamlet, sumarokov-horev, sumarokov-opekun, sumarokov-pridanoe-obmanom, sumarokov-pustaja-ssora, sumarokov-rogonosets-po-voobrazheniju, sumarokov-semira, sumarokov-sinav-i-truvor, sumarokov-ssora-u-muzha-s-zhenoj, sumarokov-tresotinius, sumarokov-vzdorschitsa, sukhovo-kobylin-delo, sukhovo-kobylin-smert-tarelkina, sukhovo-kobylin-svadba-krechinskogo, tolstoy-smert-ioanna-groznogo, tolstoy-tsar-boris, tolstoy-tsar-fedor-ioannovich, tolstoy-vlast-tmy, tolstoy-zhivoy-trup, tretyakov-protivogazy, turgenev-gde-tonko-tam-i-rvetsja, turgenev-holostjak, turgenev-mesjats-v-derevne, turgenev-nahlebnik, turgenev-neostorozhnost, turgenev-provintsialka, turgenev-razgovor-na-bolshoj-doroge, turgenev-vecher-v-sorrente, turgenev-zavtrak-u-predvoditelja, fonvizin-nedorosl, fonvizin-korion, fonvizin-vybor-guvernera, fonvizin-brigadir, kheraskov-osvobozhdennaja-moskva, kheraskov-venecianskaya-monahinya, kheraskov-plamena, khlebnikov-snezhimochka, khmelnitsky-vzaimnye-ispytaniya, khmelnitsky-govorun, khmelnitsky-vozdushnye-zamki, khmelnitsky-svetskiy-sluchay, chekhov-tragik-ponevole, chekhov-svadba, chekhov-tri-sestry, chekhov-noch-pered-sudom, chekhov-leshii, chekhov-predlozhenie, chekhov-chaika, chekhov-medved, chekhov-na-bolshoi-doroge, chekhov-ivanov, chekhov-tatjana-repina, chekhov-djadja-vanja, chekhov-vishnevyi-sad, chekhov-jubilej, shakhovskoy-ne-lubo-ne-slushai, shakhovskoy-pustodomy, shakhovskoy-svoya-semya, shakhovskoy-urok-koketkam\n"
     ]
    }
   ],
   "source": [
    "print(\", \".join(play_list))"
   ]
  },
  {
   "cell_type": "markdown",
   "metadata": {},
   "source": [
    "### 1.3 &emsp; Storing information"
   ]
  },
  {
   "cell_type": "markdown",
   "metadata": {},
   "source": [
    "This dictionary will later be a dataframe to collect all the information and visualise it later."
   ]
  },
  {
   "cell_type": "code",
   "execution_count": 10,
   "metadata": {},
   "outputs": [],
   "source": [
    "overall_dict = {\n",
    "    \"play\": [],\n",
    "    \"lexicon\": [],\n",
    "    \"spoken, total\": [],\n",
    "    \"spoken positive\": [],\n",
    "    \"spoken positive, %\": [],\n",
    "    \"spoken negative\": [],\n",
    "    \"spoken negative, %\": [],\n",
    "    \"stage, total\": [],\n",
    "    \"stage positive\": [],\n",
    "    \"stage positive, %\": [],\n",
    "    \"stage negative\": [],\n",
    "    \"stage negative, %\": []\n",
    "}"
   ]
  },
  {
   "cell_type": "markdown",
   "metadata": {},
   "source": [
    "## 2 &emsp; Extracting emotional phrases\n",
    "\n",
    "In any given phrase, each token will be lemmatized and checked against the lexicon. If the lemma is there, token's polarity is added to phrase polarity (+1 for positive, -1 for negative). The polarity of overall sum (either positive or negative) will be the final result."
   ]
  },
  {
   "cell_type": "code",
   "execution_count": 11,
   "metadata": {},
   "outputs": [],
   "source": [
    "# this is a one-liner to get the sign of a given integer to use later\n",
    "# also capable of returning 0 when given 0\n",
    "sign = lambda x: x and (1, -1)[x < 0]\n",
    "# thx stackoverflow! <3"
   ]
  },
  {
   "cell_type": "code",
   "execution_count": 12,
   "metadata": {},
   "outputs": [],
   "source": [
    "def evaluate_phrase_polarity(phrase, lexicon):\n",
    "    \"\"\"Calculates polarity for the whole phrase.\n",
    "    \n",
    "    :arg phrase (str) - phrase to evaluate\n",
    "    :arg lexicon (pandas.DataFrame) - lexicon to check the lemmas\n",
    "    \n",
    "    :returns phrase_sum (int)\n",
    "    \"\"\"\n",
    "    phrase_sum = 0\n",
    "    lemmas = [parse[\"analysis\"][0][\"lex\"] for parse in mystem.analyze(phrase) if parse.get(\"analysis\")]\n",
    "    for lemma in lemmas:\n",
    "        if lemma in lexicon[\"lemma\"].values:\n",
    "            lemma_polarity = lexicon[lexicon[\"lemma\"] == lemma].iloc[0][\"sentiment\"]\n",
    "            phrase_sum += lemma_polarity\n",
    "    return sign(phrase_sum)"
   ]
  },
  {
   "cell_type": "code",
   "execution_count": 13,
   "metadata": {},
   "outputs": [],
   "source": [
    "def analyse_type(phrases, lexicon):\n",
    "    \"\"\"Pipeline for sentiment analysis of all phrases of a given type in a play.\n",
    "    \n",
    "    :arg phrases (list of str) - drama lines\n",
    "    :arg lexicon (pandas.DataFrame) - lexicon to check the lemmas\n",
    "    \n",
    "    :returns type_total (int) - line count\n",
    "    :returns type_positive (int) - count of positively evaluated lines\n",
    "    :returns type_negative (int) - count of negatively evaluated lines\n",
    "    \"\"\"\n",
    "    type_total = len(phrases)\n",
    "    type_positive = 0\n",
    "    type_negative = 0\n",
    "    for phrase in phrases:\n",
    "        sent = evaluate_phrase_polarity(phrase, lexicon)\n",
    "        if sent > 0:\n",
    "            type_positive += 1\n",
    "        elif sent < 0:\n",
    "            type_negative += 1\n",
    "    return type_total, type_positive, type_negative"
   ]
  },
  {
   "cell_type": "markdown",
   "metadata": {},
   "source": [
    "## 3 &emsp; Running the experiment"
   ]
  },
  {
   "cell_type": "markdown",
   "metadata": {},
   "source": [
    "### 3.1 &emsp; Workflow for a single play"
   ]
  },
  {
   "cell_type": "code",
   "execution_count": 14,
   "metadata": {},
   "outputs": [],
   "source": [
    "def analyse_play(play_name, lexicon_name, lexicon):\n",
    "    # load drama lines\n",
    "    with open(\"./data/rusdracor/spoken_lemmas/{}.txt\".format(play_name), \"r\", encoding=\"utf-8\") as spoken_src:\n",
    "        play_spoken = [l.strip(\"\\n\") for l in spoken_src.readlines() if l != \"\\n\"]\n",
    "    with open(\"./data/rusdracor/stage_lemmas/{}.txt\".format(play_name), \"r\", encoding=\"utf-8\") as stage_src:\n",
    "        play_stage = [l.strip(\"\\n\") for l in stage_src.readlines() if l != \"\\n\"]\n",
    "    # analyse lines\n",
    "    spoken_total, spoken_positive, spoken_negative = analyse_type(play_spoken, lexicon)\n",
    "    stage_total, stage_positive, stage_negative = analyse_type(play_stage, lexicon)\n",
    "    # save information\n",
    "    overall_dict[\"play\"].append(play_name)\n",
    "    overall_dict[\"lexicon\"].append(lexicon_name)\n",
    "    overall_dict[\"spoken, total\"].append(spoken_total)\n",
    "    overall_dict[\"spoken positive\"].append(spoken_positive)\n",
    "    overall_dict[\"spoken positive, %\"].append(spoken_positive/spoken_total*100)\n",
    "    overall_dict[\"spoken negative\"].append(spoken_negative)\n",
    "    overall_dict[\"spoken negative, %\"].append(spoken_negative/spoken_total*100)\n",
    "    overall_dict[\"stage, total\"].append(stage_total)\n",
    "    overall_dict[\"stage positive\"].append(stage_positive)\n",
    "    overall_dict[\"stage positive, %\"].append(stage_positive/stage_total*100)\n",
    "    overall_dict[\"stage negative\"].append(stage_negative)\n",
    "    overall_dict[\"stage negative, %\"].append(stage_negative/stage_total*100)"
   ]
  },
  {
   "cell_type": "markdown",
   "metadata": {},
   "source": [
    "`tqdm` will visualise the progress."
   ]
  },
  {
   "cell_type": "code",
   "execution_count": 26,
   "metadata": {},
   "outputs": [
    {
     "name": "stderr",
     "output_type": "stream",
     "text": [
      "100%|██████████| 210/210 [1:28:20<00:00, 25.24s/it]\n"
     ]
    }
   ],
   "source": [
    "# uncomment this to run the whole thing again\n",
    "# for play_name in tqdm(play_list):\n",
    "#     for lexicon_name in lexicons:\n",
    "#         lexicon_df = lexicons_dict[lexicon_name]\n",
    "#         analyse_play(play_name, lexicon_name, lexicon_df)"
   ]
  },
  {
   "cell_type": "markdown",
   "metadata": {},
   "source": [
    "![](https://i.ytimg.com/vi/YINJj6DzBps/maxresdefault.jpg)"
   ]
  },
  {
   "cell_type": "markdown",
   "metadata": {},
   "source": [
    "## 4 &emsp; Converting information to pandas dataframe"
   ]
  },
  {
   "cell_type": "code",
   "execution_count": 15,
   "metadata": {},
   "outputs": [
    {
     "data": {
      "text/html": [
       "<div>\n",
       "<style scoped>\n",
       "    .dataframe tbody tr th:only-of-type {\n",
       "        vertical-align: middle;\n",
       "    }\n",
       "\n",
       "    .dataframe tbody tr th {\n",
       "        vertical-align: top;\n",
       "    }\n",
       "\n",
       "    .dataframe thead th {\n",
       "        text-align: right;\n",
       "    }\n",
       "</style>\n",
       "<table border=\"1\" class=\"dataframe\">\n",
       "  <thead>\n",
       "    <tr style=\"text-align: right;\">\n",
       "      <th></th>\n",
       "      <th>play</th>\n",
       "      <th>lexicon</th>\n",
       "      <th>spoken, total</th>\n",
       "      <th>spoken positive</th>\n",
       "      <th>spoken positive, %</th>\n",
       "      <th>spoken negative</th>\n",
       "      <th>spoken negative, %</th>\n",
       "      <th>stage, total</th>\n",
       "      <th>stage positive</th>\n",
       "      <th>stage positive, %</th>\n",
       "      <th>stage negative</th>\n",
       "      <th>stage negative, %</th>\n",
       "    </tr>\n",
       "  </thead>\n",
       "  <tbody>\n",
       "    <tr>\n",
       "      <td>0</td>\n",
       "      <td>andreyev-ne-ubiy</td>\n",
       "      <td>RuSentiLex</td>\n",
       "      <td>971</td>\n",
       "      <td>155</td>\n",
       "      <td>15.962925</td>\n",
       "      <td>287</td>\n",
       "      <td>29.557158</td>\n",
       "      <td>340</td>\n",
       "      <td>37</td>\n",
       "      <td>10.882353</td>\n",
       "      <td>67</td>\n",
       "      <td>19.705882</td>\n",
       "    </tr>\n",
       "    <tr>\n",
       "      <td>1</td>\n",
       "      <td>andreyev-ne-ubiy</td>\n",
       "      <td>EmoLex</td>\n",
       "      <td>971</td>\n",
       "      <td>335</td>\n",
       "      <td>34.500515</td>\n",
       "      <td>144</td>\n",
       "      <td>14.830072</td>\n",
       "      <td>340</td>\n",
       "      <td>57</td>\n",
       "      <td>16.764706</td>\n",
       "      <td>54</td>\n",
       "      <td>15.882353</td>\n",
       "    </tr>\n",
       "    <tr>\n",
       "      <td>2</td>\n",
       "      <td>andreyev-ne-ubiy</td>\n",
       "      <td>LinisCrowd</td>\n",
       "      <td>971</td>\n",
       "      <td>140</td>\n",
       "      <td>14.418126</td>\n",
       "      <td>284</td>\n",
       "      <td>29.248198</td>\n",
       "      <td>340</td>\n",
       "      <td>36</td>\n",
       "      <td>10.588235</td>\n",
       "      <td>61</td>\n",
       "      <td>17.941176</td>\n",
       "    </tr>\n",
       "    <tr>\n",
       "      <td>3</td>\n",
       "      <td>andreyev-ne-ubiy</td>\n",
       "      <td>ChenSkiena</td>\n",
       "      <td>971</td>\n",
       "      <td>420</td>\n",
       "      <td>43.254377</td>\n",
       "      <td>131</td>\n",
       "      <td>13.491246</td>\n",
       "      <td>340</td>\n",
       "      <td>73</td>\n",
       "      <td>21.470588</td>\n",
       "      <td>49</td>\n",
       "      <td>14.411765</td>\n",
       "    </tr>\n",
       "    <tr>\n",
       "      <td>4</td>\n",
       "      <td>andreyev-ne-ubiy</td>\n",
       "      <td>ProductSentiRus</td>\n",
       "      <td>971</td>\n",
       "      <td>10</td>\n",
       "      <td>1.029866</td>\n",
       "      <td>684</td>\n",
       "      <td>70.442842</td>\n",
       "      <td>340</td>\n",
       "      <td>2</td>\n",
       "      <td>0.588235</td>\n",
       "      <td>221</td>\n",
       "      <td>65.000000</td>\n",
       "    </tr>\n",
       "  </tbody>\n",
       "</table>\n",
       "</div>"
      ],
      "text/plain": [
       "               play          lexicon  spoken, total  spoken positive  \\\n",
       "0  andreyev-ne-ubiy       RuSentiLex            971              155   \n",
       "1  andreyev-ne-ubiy           EmoLex            971              335   \n",
       "2  andreyev-ne-ubiy       LinisCrowd            971              140   \n",
       "3  andreyev-ne-ubiy       ChenSkiena            971              420   \n",
       "4  andreyev-ne-ubiy  ProductSentiRus            971               10   \n",
       "\n",
       "   spoken positive, %  spoken negative  spoken negative, %  stage, total  \\\n",
       "0           15.962925              287           29.557158           340   \n",
       "1           34.500515              144           14.830072           340   \n",
       "2           14.418126              284           29.248198           340   \n",
       "3           43.254377              131           13.491246           340   \n",
       "4            1.029866              684           70.442842           340   \n",
       "\n",
       "   stage positive  stage positive, %  stage negative  stage negative, %  \n",
       "0              37          10.882353              67          19.705882  \n",
       "1              57          16.764706              54          15.882353  \n",
       "2              36          10.588235              61          17.941176  \n",
       "3              73          21.470588              49          14.411765  \n",
       "4               2           0.588235             221          65.000000  "
      ]
     },
     "execution_count": 15,
     "metadata": {},
     "output_type": "execute_result"
    }
   ],
   "source": [
    "# df = pd.DataFrame.from_dict(overall_dict)\n",
    "df = pd.read_csv(\"./data/lexicons_experiment.csv\", sep=\";\", encoding=\"utf-8\")\n",
    "df.head()"
   ]
  },
  {
   "cell_type": "code",
   "execution_count": 37,
   "metadata": {},
   "outputs": [],
   "source": [
    "# df.to_csv(\"./data/lexicons_experiment.csv\", sep=\";\", encoding=\"utf-8\", index=False)"
   ]
  },
  {
   "cell_type": "markdown",
   "metadata": {},
   "source": [
    "## 5 &emsp; Visualisation"
   ]
  },
  {
   "cell_type": "markdown",
   "metadata": {},
   "source": [
    "Let's visualise amounts of found emotional lines by play for each lexicon:"
   ]
  },
  {
   "cell_type": "markdown",
   "metadata": {},
   "source": [
    "### 5.1 &emsp; Spoken text"
   ]
  },
  {
   "cell_type": "code",
   "execution_count": 67,
   "metadata": {},
   "outputs": [
    {
     "data": {
      "image/png": "[encoded data removed]",
      "text/plain": [
       "<Figure size 1080x216 with 5 Axes>"
      ]
     },
     "metadata": {
      "needs_background": "light"
     },
     "output_type": "display_data"
    }
   ],
   "source": [
    "g = sns.FacetGrid(df, col=\"lexicon\")\n",
    "sns.set_palette(sns.cubehelix_palette(7, start=.8))\n",
    "# plt.suptitle(\"Distribution of positive phrases in plays\")\n",
    "g.map(plt.hist, \"spoken positive, %\");\n",
    "plt.savefig(\"./data/figures/spoken_positive_by_lexicon.png\", dpi=600)"
   ]
  },
  {
   "cell_type": "markdown",
   "metadata": {},
   "source": [
    "X-axis is a percentage of phrases in a play labeled positive, Y-axis is amount of plays with given percentage."
   ]
  },
  {
   "cell_type": "code",
   "execution_count": 69,
   "metadata": {},
   "outputs": [
    {
     "data": {
      "image/png": "[encoded data removed]",
      "text/plain": [
       "<Figure size 1080x216 with 5 Axes>"
      ]
     },
     "metadata": {
      "needs_background": "light"
     },
     "output_type": "display_data"
    }
   ],
   "source": [
    "g = sns.FacetGrid(df, col=\"lexicon\")\n",
    "sns.set_palette(sns.color_palette(\"hls\", 8))\n",
    "g.map(plt.hist, \"spoken negative, %\");\n",
    "plt.savefig(\"./data/figures/spoken_negative_by_lexicon.png\", dpi=600)"
   ]
  },
  {
   "cell_type": "markdown",
   "metadata": {},
   "source": [
    "### 5.2 &emsp; Stage directions"
   ]
  },
  {
   "cell_type": "code",
   "execution_count": 71,
   "metadata": {},
   "outputs": [
    {
     "data": {
      "image/png": "[encoded data removed]",
      "text/plain": [
       "<Figure size 1080x216 with 5 Axes>"
      ]
     },
     "metadata": {
      "needs_background": "light"
     },
     "output_type": "display_data"
    }
   ],
   "source": [
    "g = sns.FacetGrid(df, col=\"lexicon\")\n",
    "sns.set_palette(sns.cubehelix_palette(7, start=.8))\n",
    "# plt.suptitle(\"Distribution of positive phrases in plays\")\n",
    "g.map(plt.hist, \"stage positive, %\");\n",
    "plt.savefig(\"./data/figures/stage_positive_by_lexicon.png\", dpi=600)"
   ]
  },
  {
   "cell_type": "markdown",
   "metadata": {},
   "source": [
    "X-axis is a percentage of phrases in a play labeled positive, Y-axis is amount of plays with given percentage."
   ]
  },
  {
   "cell_type": "code",
   "execution_count": 73,
   "metadata": {},
   "outputs": [
    {
     "data": {
      "image/png": "[encoded data removed]",
      "text/plain": [
       "<Figure size 1080x216 with 5 Axes>"
      ]
     },
     "metadata": {
      "needs_background": "light"
     },
     "output_type": "display_data"
    }
   ],
   "source": [
    "g = sns.FacetGrid(df, col=\"lexicon\")\n",
    "sns.set_palette(sns.color_palette(\"hls\", 8))\n",
    "g.map(plt.hist, \"stage negative, %\");\n",
    "plt.savefig(\"./data/figures/stage_negative_by_lexicon.png\", dpi=600)"
   ]
  },
  {
   "cell_type": "markdown",
   "metadata": {},
   "source": [
    "### 5.3 &emsp; What can we get from these?"
   ]
  },
  {
   "cell_type": "markdown",
   "metadata": {},
   "source": [
    "- stage directions are, in general, less emotional (as expected)\n",
    "\n",
    "- results shown by EmoLex and Chen and Skiena's lexicons are quite the same, especially when looking at spoken text (this might be due to the fact that they are both Google Translate-based)\n",
    "\n",
    "- ProductSentiRus shows way too much negative stage directions (needs a more proper check)"
   ]
  }
 ],
 "metadata": {
  "kernelspec": {
   "display_name": "Python 3",
   "language": "python",
   "name": "python3"
  },
  "language_info": {
   "codemirror_mode": {
    "name": "ipython",
    "version": 3
   },
   "file_extension": ".py",
   "mimetype": "text/x-python",
   "name": "python",
   "nbconvert_exporter": "python",
   "pygments_lexer": "ipython3",
   "version": "3.6.8"
  }
 },
 "nbformat": 4,
 "nbformat_minor": 4
}
