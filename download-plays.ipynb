{
 "cells": [
  {
   "cell_type": "code",
   "execution_count": 1,
   "metadata": {},
   "outputs": [],
   "source": [
    "import html\n",
    "import json\n",
    "import re\n",
    "import requests\n",
    "import os\n",
    "\n",
    "from tqdm import tqdm"
   ]
  },
  {
   "cell_type": "code",
   "execution_count": 2,
   "metadata": {},
   "outputs": [],
   "source": [
    "def get_play_names():\n",
    "    \"\"\"Makes a request to RusDraCor API to get all play names (used as ids).\n",
    "    \n",
    "    :arg request_link - (str) an API link to send the request\n",
    "    :returns play_names - (list of str) ids for all the plays currently present in the\n",
    "    corpus\"\"\"\n",
    "    play_names = []\n",
    "    request_url = \"https://dracor.org/api/corpora/rus\"\n",
    "    response = requests.get(request_url)\n",
    "    if response:\n",
    "        all_plays = response.json()[\"dramas\"]\n",
    "        for play in all_plays:\n",
    "            play_names.append(play[\"name\"])\n",
    "    return play_names"
   ]
  },
  {
   "cell_type": "code",
   "execution_count": 3,
   "metadata": {},
   "outputs": [],
   "source": [
    "play_names = get_play_names()"
   ]
  },
  {
   "cell_type": "code",
   "execution_count": 12,
   "metadata": {},
   "outputs": [],
   "source": [
    "def get_play_text_by_type(play_name, text_type):\n",
    "    \"\"\"Uses an API request to get spoken/stage direction text.\n",
    "    \n",
    "    :arg play_name (str) - name of a play to work with\n",
    "    :arg text_type (str) - \"spoken\" or \"stage\"\n",
    "    \n",
    "    :returns text_type_lines (list of str) - strings of texts of a given type\n",
    "    to work with later\n",
    "    \"\"\"\n",
    "    if text_type == \"spoken\":\n",
    "        request_url = \"https://dracor.org/api/corpora/rus/play/{}/spoken-text\".format(play_name)\n",
    "    elif text_type == \"stage\":\n",
    "        request_url = \"https://dracor.org/api/corpora/rus/play/{}/stage-directions\".format(play_name)\n",
    "    response = requests.get(request_url)\n",
    "    if response:\n",
    "        return response.text.split(\"\\n\")\n",
    "    else:\n",
    "        return []"
   ]
  },
  {
   "cell_type": "code",
   "execution_count": 18,
   "metadata": {},
   "outputs": [],
   "source": [
    "stage_folder = \"./data/stage\"\n",
    "spoken_folder = \"./data/spoken\""
   ]
  },
  {
   "cell_type": "code",
   "execution_count": 22,
   "metadata": {},
   "outputs": [
    {
     "name": "stderr",
     "output_type": "stream",
     "text": [
      "100%|██████████| 210/210 [03:45<00:00,  1.07s/it]\n"
     ]
    }
   ],
   "source": [
    "for play in tqdm(play_names):\n",
    "    # stage\n",
    "    play_stage = get_play_text_by_type(play, \"stage\")\n",
    "    play_stage_path = stage_folder + \"/{}.txt\".format(play)\n",
    "    with open(play_stage_path, \"w\", encoding=\"utf-8\") as f:\n",
    "        f.write(\"\\n\".join(play_stage))\n",
    "    # spoken\n",
    "    play_spoken = get_play_text_by_type(play, \"spoken\")\n",
    "    play_spoken_path = spoken_folder + \"/{}.txt\".format(play)\n",
    "    with open(play_spoken_path, \"w\", encoding=\"utf-8\") as f:\n",
    "        f.write(\"\\n\".join(play_spoken))"
   ]
  }
 ],
 "metadata": {
  "kernelspec": {
   "display_name": "Python 3",
   "language": "python",
   "name": "python3"
  },
  "language_info": {
   "codemirror_mode": {
    "name": "ipython",
    "version": 3
   },
   "file_extension": ".py",
   "mimetype": "text/x-python",
   "name": "python",
   "nbconvert_exporter": "python",
   "pygments_lexer": "ipython3",
   "version": "3.6.8"
  }
 },
 "nbformat": 4,
 "nbformat_minor": 2
}
