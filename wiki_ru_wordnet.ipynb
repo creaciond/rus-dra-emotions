{
 "cells": [
  {
   "cell_type": "code",
   "execution_count": 1,
   "metadata": {},
   "outputs": [],
   "source": [
    "from wiki_ru_wordnet import WikiWordnet"
   ]
  },
  {
   "cell_type": "code",
   "execution_count": 2,
   "metadata": {
    "scrolled": true
   },
   "outputs": [],
   "source": [
    "wikiwordnet = WikiWordnet()"
   ]
  },
  {
   "cell_type": "code",
   "execution_count": 3,
   "metadata": {
    "scrolled": true
   },
   "outputs": [
    {
     "name": "stdout",
     "output_type": "stream",
     "text": [
      "{'агорафобия'}\n",
      "{'аматофобия'}\n",
      "{'комплекс кастрации'}\n",
      "{'андрофобия', 'мужененавистничество'}\n",
      "{'анемофобия'}\n",
      "{'русофобия', 'антирусизм'}\n",
      "{'пугать'}\n"
     ]
    }
   ],
   "source": [
    "for synset in wikiwordnet.get_synsets(\"страх\"):\n",
    "    for hyponym in wikiwordnet.get_hyponyms(synset):\n",
    "        print({w.lemma() for w in hyponym.get_words()})"
   ]
  },
  {
   "cell_type": "code",
   "execution_count": 4,
   "metadata": {},
   "outputs": [
    {
     "name": "stdout",
     "output_type": "stream",
     "text": [
      "{'ласковый', 'благожелательный', 'благодушный', 'сердечный', 'нежный', 'добрый', 'мягкосердечный', 'доброжелательный', 'добросердечный'}\n",
      "{'мания'}\n",
      "{'несчастная любовь'}\n",
      "{'ласковость'}\n",
      "{'нежность', 'ласка'}\n",
      "{'чары', 'шарм', 'обаятельность', 'обаяние'}\n",
      "{'склонность'}\n"
     ]
    }
   ],
   "source": [
    "for synset in wikiwordnet.get_synsets(\"любовь\"):\n",
    "    for hyponym in wikiwordnet.get_hyponyms(synset):\n",
    "        print({w.lemma() for w in hyponym.get_words()})"
   ]
  },
  {
   "cell_type": "code",
   "execution_count": 5,
   "metadata": {},
   "outputs": [
    {
     "name": "stdout",
     "output_type": "stream",
     "text": [
      "{'колкость', 'ехидство', 'желчность', 'язвительность'}\n",
      "{'зуб'}\n",
      "{'злорадство'}\n",
      "{'мизантропия', 'человеконенавистничество'}\n"
     ]
    }
   ],
   "source": [
    "for synset in wikiwordnet.get_synsets(\"ненависть\"):\n",
    "    for hyponym in wikiwordnet.get_hyponyms(synset):\n",
    "        print({w.lemma() for w in hyponym.get_words()})"
   ]
  },
  {
   "cell_type": "code",
   "execution_count": 6,
   "metadata": {},
   "outputs": [],
   "source": [
    "for synset in wikiwordnet.get_synsets(\"отчаяние\"):\n",
    "    for hyponym in wikiwordnet.get_hyponyms(synset):\n",
    "        print({w.lemma() for w in hyponym.get_words()})"
   ]
  }
 ],
 "metadata": {
  "kernelspec": {
   "display_name": "Python 3",
   "language": "python",
   "name": "python3"
  },
  "language_info": {
   "codemirror_mode": {
    "name": "ipython",
    "version": 3
   },
   "file_extension": ".py",
   "mimetype": "text/x-python",
   "name": "python",
   "nbconvert_exporter": "python",
   "pygments_lexer": "ipython3",
   "version": "3.6.8"
  }
 },
 "nbformat": 4,
 "nbformat_minor": 2
}
